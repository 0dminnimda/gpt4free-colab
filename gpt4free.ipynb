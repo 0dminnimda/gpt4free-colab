{
  "nbformat": 4,
  "nbformat_minor": 0,
  "metadata": {
    "colab": {
      "provenance": [],
      "authorship_tag": "ABX9TyNrbioLuE+5S9XZXbz7TvP1",
      "include_colab_link": true
    },
    "kernelspec": {
      "name": "python3",
      "display_name": "Python 3"
    },
    "language_info": {
      "name": "python"
    },
    "widgets": {
      "application/vnd.jupyter.widget-state+json": {
        "11334cae624542ad9eded2764ed0ba6a": {
          "model_module": "@jupyter-widgets/controls",
          "model_name": "PasswordModel",
          "model_module_version": "1.5.0",
          "state": {
            "_dom_classes": [],
            "_model_module": "@jupyter-widgets/controls",
            "_model_module_version": "1.5.0",
            "_model_name": "PasswordModel",
            "_view_count": null,
            "_view_module": "@jupyter-widgets/controls",
            "_view_module_version": "1.5.0",
            "_view_name": "PasswordView",
            "continuous_update": true,
            "description": "Poe-token:",
            "description_tooltip": null,
            "disabled": false,
            "layout": "IPY_MODEL_43edde5d8f4141f08992677cefda6a0d",
            "placeholder": "Enter your poe-token",
            "style": "IPY_MODEL_511f68c345a34fdfa463fac0c90f182d",
            "value": ""
          }
        },
        "43edde5d8f4141f08992677cefda6a0d": {
          "model_module": "@jupyter-widgets/base",
          "model_name": "LayoutModel",
          "model_module_version": "1.2.0",
          "state": {
            "_model_module": "@jupyter-widgets/base",
            "_model_module_version": "1.2.0",
            "_model_name": "LayoutModel",
            "_view_count": null,
            "_view_module": "@jupyter-widgets/base",
            "_view_module_version": "1.2.0",
            "_view_name": "LayoutView",
            "align_content": null,
            "align_items": null,
            "align_self": null,
            "border": null,
            "bottom": null,
            "display": null,
            "flex": null,
            "flex_flow": null,
            "grid_area": null,
            "grid_auto_columns": null,
            "grid_auto_flow": null,
            "grid_auto_rows": null,
            "grid_column": null,
            "grid_gap": null,
            "grid_row": null,
            "grid_template_areas": null,
            "grid_template_columns": null,
            "grid_template_rows": null,
            "height": null,
            "justify_content": null,
            "justify_items": null,
            "left": null,
            "margin": null,
            "max_height": null,
            "max_width": null,
            "min_height": null,
            "min_width": null,
            "object_fit": null,
            "object_position": null,
            "order": null,
            "overflow": null,
            "overflow_x": null,
            "overflow_y": null,
            "padding": null,
            "right": null,
            "top": null,
            "visibility": null,
            "width": null
          }
        },
        "511f68c345a34fdfa463fac0c90f182d": {
          "model_module": "@jupyter-widgets/controls",
          "model_name": "DescriptionStyleModel",
          "model_module_version": "1.5.0",
          "state": {
            "_model_module": "@jupyter-widgets/controls",
            "_model_module_version": "1.5.0",
            "_model_name": "DescriptionStyleModel",
            "_view_count": null,
            "_view_module": "@jupyter-widgets/base",
            "_view_module_version": "1.2.0",
            "_view_name": "StyleView",
            "description_width": "initial"
          }
        },
        "5062f9e85b514ba890035714e99c1d1e": {
          "model_module": "@jupyter-widgets/controls",
          "model_name": "ButtonModel",
          "model_module_version": "1.5.0",
          "state": {
            "_dom_classes": [],
            "_model_module": "@jupyter-widgets/controls",
            "_model_module_version": "1.5.0",
            "_model_name": "ButtonModel",
            "_view_count": null,
            "_view_module": "@jupyter-widgets/controls",
            "_view_module_version": "1.5.0",
            "_view_name": "ButtonView",
            "button_style": "success",
            "description": "Save Poe-token",
            "disabled": false,
            "icon": "check",
            "layout": "IPY_MODEL_6ab608f83627457c8d564fa4eebedd93",
            "style": "IPY_MODEL_9ff2347fbd77495183440e956d1bfe38",
            "tooltip": "Click to save the entered poe-token to an environment variable"
          }
        },
        "6ab608f83627457c8d564fa4eebedd93": {
          "model_module": "@jupyter-widgets/base",
          "model_name": "LayoutModel",
          "model_module_version": "1.2.0",
          "state": {
            "_model_module": "@jupyter-widgets/base",
            "_model_module_version": "1.2.0",
            "_model_name": "LayoutModel",
            "_view_count": null,
            "_view_module": "@jupyter-widgets/base",
            "_view_module_version": "1.2.0",
            "_view_name": "LayoutView",
            "align_content": null,
            "align_items": null,
            "align_self": null,
            "border": null,
            "bottom": null,
            "display": null,
            "flex": null,
            "flex_flow": null,
            "grid_area": null,
            "grid_auto_columns": null,
            "grid_auto_flow": null,
            "grid_auto_rows": null,
            "grid_column": null,
            "grid_gap": null,
            "grid_row": null,
            "grid_template_areas": null,
            "grid_template_columns": null,
            "grid_template_rows": null,
            "height": null,
            "justify_content": null,
            "justify_items": null,
            "left": null,
            "margin": null,
            "max_height": null,
            "max_width": null,
            "min_height": null,
            "min_width": null,
            "object_fit": null,
            "object_position": null,
            "order": null,
            "overflow": null,
            "overflow_x": null,
            "overflow_y": null,
            "padding": null,
            "right": null,
            "top": null,
            "visibility": null,
            "width": null
          }
        },
        "9ff2347fbd77495183440e956d1bfe38": {
          "model_module": "@jupyter-widgets/controls",
          "model_name": "ButtonStyleModel",
          "model_module_version": "1.5.0",
          "state": {
            "_model_module": "@jupyter-widgets/controls",
            "_model_module_version": "1.5.0",
            "_model_name": "ButtonStyleModel",
            "_view_count": null,
            "_view_module": "@jupyter-widgets/base",
            "_view_module_version": "1.2.0",
            "_view_name": "StyleView",
            "button_color": null,
            "font_weight": ""
          }
        },
        "ee403334a23d42ff8540be3fdaffc718": {
          "model_module": "@jupyter-widgets/controls",
          "model_name": "PasswordModel",
          "model_module_version": "1.5.0",
          "state": {
            "_dom_classes": [],
            "_model_module": "@jupyter-widgets/controls",
            "_model_module_version": "1.5.0",
            "_model_name": "PasswordModel",
            "_view_count": null,
            "_view_module": "@jupyter-widgets/controls",
            "_view_module_version": "1.5.0",
            "_view_name": "PasswordView",
            "continuous_update": true,
            "description": "Ora-userid:",
            "description_tooltip": null,
            "disabled": false,
            "layout": "IPY_MODEL_1ded3bdf614240ad8b1b3c0ff7209094",
            "placeholder": "Enter your ora-userID",
            "style": "IPY_MODEL_186f8a47b2104847a66db75055f2c9c0",
            "value": ""
          }
        },
        "1ded3bdf614240ad8b1b3c0ff7209094": {
          "model_module": "@jupyter-widgets/base",
          "model_name": "LayoutModel",
          "model_module_version": "1.2.0",
          "state": {
            "_model_module": "@jupyter-widgets/base",
            "_model_module_version": "1.2.0",
            "_model_name": "LayoutModel",
            "_view_count": null,
            "_view_module": "@jupyter-widgets/base",
            "_view_module_version": "1.2.0",
            "_view_name": "LayoutView",
            "align_content": null,
            "align_items": null,
            "align_self": null,
            "border": null,
            "bottom": null,
            "display": null,
            "flex": null,
            "flex_flow": null,
            "grid_area": null,
            "grid_auto_columns": null,
            "grid_auto_flow": null,
            "grid_auto_rows": null,
            "grid_column": null,
            "grid_gap": null,
            "grid_row": null,
            "grid_template_areas": null,
            "grid_template_columns": null,
            "grid_template_rows": null,
            "height": null,
            "justify_content": null,
            "justify_items": null,
            "left": null,
            "margin": null,
            "max_height": null,
            "max_width": null,
            "min_height": null,
            "min_width": null,
            "object_fit": null,
            "object_position": null,
            "order": null,
            "overflow": null,
            "overflow_x": null,
            "overflow_y": null,
            "padding": null,
            "right": null,
            "top": null,
            "visibility": null,
            "width": null
          }
        },
        "186f8a47b2104847a66db75055f2c9c0": {
          "model_module": "@jupyter-widgets/controls",
          "model_name": "DescriptionStyleModel",
          "model_module_version": "1.5.0",
          "state": {
            "_model_module": "@jupyter-widgets/controls",
            "_model_module_version": "1.5.0",
            "_model_name": "DescriptionStyleModel",
            "_view_count": null,
            "_view_module": "@jupyter-widgets/base",
            "_view_module_version": "1.2.0",
            "_view_name": "StyleView",
            "description_width": "initial"
          }
        },
        "1feef8ae24314c49b18132cd93735123": {
          "model_module": "@jupyter-widgets/controls",
          "model_name": "ButtonModel",
          "model_module_version": "1.5.0",
          "state": {
            "_dom_classes": [],
            "_model_module": "@jupyter-widgets/controls",
            "_model_module_version": "1.5.0",
            "_model_name": "ButtonModel",
            "_view_count": null,
            "_view_module": "@jupyter-widgets/controls",
            "_view_module_version": "1.5.0",
            "_view_name": "ButtonView",
            "button_style": "success",
            "description": "Save Ora-userid",
            "disabled": false,
            "icon": "check",
            "layout": "IPY_MODEL_fd348259d2144c39b182983a513b5238",
            "style": "IPY_MODEL_979c9b8f531e4ed0b94253040c8a051d",
            "tooltip": "Click to save the entered ora-userID to an environment variable"
          }
        },
        "fd348259d2144c39b182983a513b5238": {
          "model_module": "@jupyter-widgets/base",
          "model_name": "LayoutModel",
          "model_module_version": "1.2.0",
          "state": {
            "_model_module": "@jupyter-widgets/base",
            "_model_module_version": "1.2.0",
            "_model_name": "LayoutModel",
            "_view_count": null,
            "_view_module": "@jupyter-widgets/base",
            "_view_module_version": "1.2.0",
            "_view_name": "LayoutView",
            "align_content": null,
            "align_items": null,
            "align_self": null,
            "border": null,
            "bottom": null,
            "display": null,
            "flex": null,
            "flex_flow": null,
            "grid_area": null,
            "grid_auto_columns": null,
            "grid_auto_flow": null,
            "grid_auto_rows": null,
            "grid_column": null,
            "grid_gap": null,
            "grid_row": null,
            "grid_template_areas": null,
            "grid_template_columns": null,
            "grid_template_rows": null,
            "height": null,
            "justify_content": null,
            "justify_items": null,
            "left": null,
            "margin": null,
            "max_height": null,
            "max_width": null,
            "min_height": null,
            "min_width": null,
            "object_fit": null,
            "object_position": null,
            "order": null,
            "overflow": null,
            "overflow_x": null,
            "overflow_y": null,
            "padding": null,
            "right": null,
            "top": null,
            "visibility": null,
            "width": null
          }
        },
        "979c9b8f531e4ed0b94253040c8a051d": {
          "model_module": "@jupyter-widgets/controls",
          "model_name": "ButtonStyleModel",
          "model_module_version": "1.5.0",
          "state": {
            "_model_module": "@jupyter-widgets/controls",
            "_model_module_version": "1.5.0",
            "_model_name": "ButtonStyleModel",
            "_view_count": null,
            "_view_module": "@jupyter-widgets/base",
            "_view_module_version": "1.2.0",
            "_view_name": "StyleView",
            "button_color": null,
            "font_weight": ""
          }
        },
        "2e5b41bcb820497e8d7ec5ce1521e6ed": {
          "model_module": "@jupyter-widgets/controls",
          "model_name": "PasswordModel",
          "model_module_version": "1.5.0",
          "state": {
            "_dom_classes": [],
            "_model_module": "@jupyter-widgets/controls",
            "_model_module_version": "1.5.0",
            "_model_name": "PasswordModel",
            "_view_count": null,
            "_view_module": "@jupyter-widgets/controls",
            "_view_module_version": "1.5.0",
            "_view_name": "PasswordView",
            "continuous_update": true,
            "description": "Ora-session-token:",
            "description_tooltip": null,
            "disabled": false,
            "layout": "IPY_MODEL_44643c0e152640e3b19e571a0f056b41",
            "placeholder": "Enter your ora-session-token",
            "style": "IPY_MODEL_82c491b16815427397924a71b4cac943",
            "value": ""
          }
        },
        "44643c0e152640e3b19e571a0f056b41": {
          "model_module": "@jupyter-widgets/base",
          "model_name": "LayoutModel",
          "model_module_version": "1.2.0",
          "state": {
            "_model_module": "@jupyter-widgets/base",
            "_model_module_version": "1.2.0",
            "_model_name": "LayoutModel",
            "_view_count": null,
            "_view_module": "@jupyter-widgets/base",
            "_view_module_version": "1.2.0",
            "_view_name": "LayoutView",
            "align_content": null,
            "align_items": null,
            "align_self": null,
            "border": null,
            "bottom": null,
            "display": null,
            "flex": null,
            "flex_flow": null,
            "grid_area": null,
            "grid_auto_columns": null,
            "grid_auto_flow": null,
            "grid_auto_rows": null,
            "grid_column": null,
            "grid_gap": null,
            "grid_row": null,
            "grid_template_areas": null,
            "grid_template_columns": null,
            "grid_template_rows": null,
            "height": null,
            "justify_content": null,
            "justify_items": null,
            "left": null,
            "margin": null,
            "max_height": null,
            "max_width": null,
            "min_height": null,
            "min_width": null,
            "object_fit": null,
            "object_position": null,
            "order": null,
            "overflow": null,
            "overflow_x": null,
            "overflow_y": null,
            "padding": null,
            "right": null,
            "top": null,
            "visibility": null,
            "width": null
          }
        },
        "82c491b16815427397924a71b4cac943": {
          "model_module": "@jupyter-widgets/controls",
          "model_name": "DescriptionStyleModel",
          "model_module_version": "1.5.0",
          "state": {
            "_model_module": "@jupyter-widgets/controls",
            "_model_module_version": "1.5.0",
            "_model_name": "DescriptionStyleModel",
            "_view_count": null,
            "_view_module": "@jupyter-widgets/base",
            "_view_module_version": "1.2.0",
            "_view_name": "StyleView",
            "description_width": "initial"
          }
        },
        "cd71f484d4a14277919c15bf96f41dc7": {
          "model_module": "@jupyter-widgets/controls",
          "model_name": "ButtonModel",
          "model_module_version": "1.5.0",
          "state": {
            "_dom_classes": [],
            "_model_module": "@jupyter-widgets/controls",
            "_model_module_version": "1.5.0",
            "_model_name": "ButtonModel",
            "_view_count": null,
            "_view_module": "@jupyter-widgets/controls",
            "_view_module_version": "1.5.0",
            "_view_name": "ButtonView",
            "button_style": "success",
            "description": "Save Ora-session-token",
            "disabled": false,
            "icon": "check",
            "layout": "IPY_MODEL_44b0f95b6c45494d84bf2e9f8252ed4d",
            "style": "IPY_MODEL_42629de6e04e47bc9d201131ed43ff51",
            "tooltip": "Click to save the entered ora-session-token to an environment variable"
          }
        },
        "44b0f95b6c45494d84bf2e9f8252ed4d": {
          "model_module": "@jupyter-widgets/base",
          "model_name": "LayoutModel",
          "model_module_version": "1.2.0",
          "state": {
            "_model_module": "@jupyter-widgets/base",
            "_model_module_version": "1.2.0",
            "_model_name": "LayoutModel",
            "_view_count": null,
            "_view_module": "@jupyter-widgets/base",
            "_view_module_version": "1.2.0",
            "_view_name": "LayoutView",
            "align_content": null,
            "align_items": null,
            "align_self": null,
            "border": null,
            "bottom": null,
            "display": null,
            "flex": null,
            "flex_flow": null,
            "grid_area": null,
            "grid_auto_columns": null,
            "grid_auto_flow": null,
            "grid_auto_rows": null,
            "grid_column": null,
            "grid_gap": null,
            "grid_row": null,
            "grid_template_areas": null,
            "grid_template_columns": null,
            "grid_template_rows": null,
            "height": null,
            "justify_content": null,
            "justify_items": null,
            "left": null,
            "margin": null,
            "max_height": null,
            "max_width": null,
            "min_height": null,
            "min_width": null,
            "object_fit": null,
            "object_position": null,
            "order": null,
            "overflow": null,
            "overflow_x": null,
            "overflow_y": null,
            "padding": null,
            "right": null,
            "top": null,
            "visibility": null,
            "width": null
          }
        },
        "42629de6e04e47bc9d201131ed43ff51": {
          "model_module": "@jupyter-widgets/controls",
          "model_name": "ButtonStyleModel",
          "model_module_version": "1.5.0",
          "state": {
            "_model_module": "@jupyter-widgets/controls",
            "_model_module_version": "1.5.0",
            "_model_name": "ButtonStyleModel",
            "_view_count": null,
            "_view_module": "@jupyter-widgets/base",
            "_view_module_version": "1.2.0",
            "_view_name": "StyleView",
            "button_color": null,
            "font_weight": ""
          }
        }
      }
    }
  },
  "cells": [
    {
      "cell_type": "markdown",
      "metadata": {
        "id": "view-in-github",
        "colab_type": "text"
      },
      "source": [
        "<a href=\"https://colab.research.google.com/github/DanielShemesh/gpt4free-colab/blob/main/gpt4free.ipynb\" target=\"_parent\"><img src=\"https://colab.research.google.com/assets/colab-badge.svg\" alt=\"Open In Colab\"/></a>"
      ]
    },
    {
      "cell_type": "markdown",
      "source": [
        "# **[GPT4free](https://github.com/DanielShemesh/gpt4free-colab/)**\n",
        "\n",
        "This program is licensed under the GNU GPL v3.\n",
        "\n",
        "&copy; 2023 Made by [Daniel Shemesh](https://github.com/DanielShemesh).\n",
        "  \n",
        "This Jupyter Notebook contains code written by [Daniel Shemesh](https://github.com/DanielShemesh). It is based on work from the GitHub repository by xtekky ([GPT4free](https://github.com/xtekky/gpt4free/)). The code in this notebook is released under the terms of the GNU General Public License v3, which allows for free redistribution and modification of the code in accordance with the terms of the license.\n",
        "\n",
        "## Disclaimer\n",
        "\n",
        "This repository uses third-party APIs and AI models and is not associated with or endorsed by the API providers or the original developers of the models. This project is intended for educational purposes only.\n",
        "\n",
        "Please note the following:\n",
        "\n",
        "**Disclaimer**: The APIs, services, and trademarks mentioned in this repository belong to their respective owners. This project is not claiming any right over them.\n",
        "\n",
        "**Responsibility**: The author of this repository is not responsible for any consequences arising from the use or misuse of this repository or the content provided by the third-party APIs and any damage or losses caused by users' actions.\n",
        "\n",
        "**Educational Purposes Only**: This repository and its content are provided strictly for educational purposes. By using the information and code provided, users acknowledge that they are using the APIs and models at their own risk and agree to comply with any applicable laws and regulations.\n"
      ],
      "metadata": {
        "id": "-dgsCWj894Jf"
      }
    },
    {
      "cell_type": "code",
      "execution_count": 1,
      "metadata": {
        "id": "wbnrfNtOMW78",
        "collapsed": true,
        "cellView": "form"
      },
      "outputs": [],
      "source": [
        "#@markdown #Install requirements\n",
        "\n",
        "%%capture captured_output\n",
        "\n",
        "!git clone https://github.com/xtekky/gpt4free\n",
        "%cd gpt4free\n",
        "!mv testing/* ./\n",
        "!pip install -r requirements.txt\n",
        "!pip install ipywidgets"
      ]
    },
    {
      "cell_type": "markdown",
      "source": [
        "#Instructions\n",
        "##Poe/Quora\n",
        "* Sign up to [Poe](https://www.poe.com) and head over to the site\n",
        "* ctrl+shift+i to open developer console\n",
        "* Go to Application -> Cookies -> https://poe.com\n",
        "* Find the **p-b** cookie and copy its value, this will be your **Poe-token**"
      ],
      "metadata": {
        "id": "gITVWcGo2coc"
      }
    },
    {
      "cell_type": "code",
      "source": [
        "#@markdown #Define secrets\n",
        "\n",
        "import os\n",
        "import ipywidgets as widgets\n",
        "from IPython.display import display\n",
        "\n",
        "def create_input_widget(word):\n",
        "    widget = widgets.Password(\n",
        "        value='',\n",
        "        placeholder=f'Enter your {word}',\n",
        "        description=f'{word.capitalize()}:',\n",
        "        disabled=False,\n",
        "        style={'description_width': 'initial'}\n",
        "    )\n",
        "    return widget\n",
        "\n",
        "def create_save_button(word, widget):\n",
        "    button = widgets.Button(\n",
        "        description=f'Save {word.capitalize()}',\n",
        "        disabled=False,\n",
        "        button_style='success',\n",
        "        tooltip=f'Click to save the entered {word} to an environment variable',\n",
        "        icon='check'\n",
        "    )\n",
        "    button.on_click(lambda b: save_word(word, widget))\n",
        "    return button\n",
        "\n",
        "def save_word(word, widget):\n",
        "    os.environ[f'SECRET_{word.upper()}'] = widget.value\n",
        "    print(f\"{word.capitalize()} saved successfully!\")\n",
        "\n",
        "def create_input_and_save_button(word):\n",
        "    widget = create_input_widget(word)\n",
        "    button = create_save_button(word, widget)\n",
        "    display(widget)\n",
        "    display(button)\n",
        "\n",
        "create_input_and_save_button('poe-token')\n",
        "create_input_and_save_button('ora-userID')\n",
        "create_input_and_save_button('ora-session-token')"
      ],
      "metadata": {
        "id": "olblQNP9VhZf",
        "colab": {
          "base_uri": "https://localhost:8080/",
          "height": 209,
          "referenced_widgets": [
            "11334cae624542ad9eded2764ed0ba6a",
            "43edde5d8f4141f08992677cefda6a0d",
            "511f68c345a34fdfa463fac0c90f182d",
            "5062f9e85b514ba890035714e99c1d1e",
            "6ab608f83627457c8d564fa4eebedd93",
            "9ff2347fbd77495183440e956d1bfe38",
            "ee403334a23d42ff8540be3fdaffc718",
            "1ded3bdf614240ad8b1b3c0ff7209094",
            "186f8a47b2104847a66db75055f2c9c0",
            "1feef8ae24314c49b18132cd93735123",
            "fd348259d2144c39b182983a513b5238",
            "979c9b8f531e4ed0b94253040c8a051d",
            "2e5b41bcb820497e8d7ec5ce1521e6ed",
            "44643c0e152640e3b19e571a0f056b41",
            "82c491b16815427397924a71b4cac943",
            "cd71f484d4a14277919c15bf96f41dc7",
            "44b0f95b6c45494d84bf2e9f8252ed4d",
            "42629de6e04e47bc9d201131ed43ff51"
          ]
        },
        "cellView": "form",
        "outputId": "1306fd93-84a1-4c3e-889b-e21db0f63c96"
      },
      "execution_count": 8,
      "outputs": [
        {
          "output_type": "display_data",
          "data": {
            "text/plain": [
              "Password(description='Poe-token:', placeholder='Enter your poe-token', style=DescriptionStyle(description_widt…"
            ],
            "application/vnd.jupyter.widget-view+json": {
              "version_major": 2,
              "version_minor": 0,
              "model_id": "11334cae624542ad9eded2764ed0ba6a"
            }
          },
          "metadata": {}
        },
        {
          "output_type": "display_data",
          "data": {
            "text/plain": [
              "Button(button_style='success', description='Save Poe-token', icon='check', style=ButtonStyle(), tooltip='Click…"
            ],
            "application/vnd.jupyter.widget-view+json": {
              "version_major": 2,
              "version_minor": 0,
              "model_id": "5062f9e85b514ba890035714e99c1d1e"
            }
          },
          "metadata": {}
        },
        {
          "output_type": "display_data",
          "data": {
            "text/plain": [
              "Password(description='Ora-userid:', placeholder='Enter your ora-userID', style=DescriptionStyle(description_wi…"
            ],
            "application/vnd.jupyter.widget-view+json": {
              "version_major": 2,
              "version_minor": 0,
              "model_id": "ee403334a23d42ff8540be3fdaffc718"
            }
          },
          "metadata": {}
        },
        {
          "output_type": "display_data",
          "data": {
            "text/plain": [
              "Button(button_style='success', description='Save Ora-userid', icon='check', style=ButtonStyle(), tooltip='Clic…"
            ],
            "application/vnd.jupyter.widget-view+json": {
              "version_major": 2,
              "version_minor": 0,
              "model_id": "1feef8ae24314c49b18132cd93735123"
            }
          },
          "metadata": {}
        },
        {
          "output_type": "display_data",
          "data": {
            "text/plain": [
              "Password(description='Ora-session-token:', placeholder='Enter your ora-session-token', style=DescriptionStyle(…"
            ],
            "application/vnd.jupyter.widget-view+json": {
              "version_major": 2,
              "version_minor": 0,
              "model_id": "2e5b41bcb820497e8d7ec5ce1521e6ed"
            }
          },
          "metadata": {}
        },
        {
          "output_type": "display_data",
          "data": {
            "text/plain": [
              "Button(button_style='success', description='Save Ora-session-token', icon='check', style=ButtonStyle(), toolti…"
            ],
            "application/vnd.jupyter.widget-view+json": {
              "version_major": 2,
              "version_minor": 0,
              "model_id": "cd71f484d4a14277919c15bf96f41dc7"
            }
          },
          "metadata": {}
        }
      ]
    },
    {
      "cell_type": "code",
      "source": [
        "#@markdown #Poe/Quora\n",
        "\n",
        "from markdown_it import MarkdownIt\n",
        "from IPython.core.display import HTML\n",
        "\n",
        "import quora\n",
        "import os\n",
        "from time import sleep\n",
        "\n",
        "token = os.environ['SECRET_POE-TOKEN']\n",
        "\n",
        "#@markdown Choose a model and type your prompt\n",
        "model = \"gpt-3.5-turbo\"  # @param ['gpt-3.5-turbo', 'gpt-4', 'sage', 'claude-v1.2', 'claude-instant-v1.0']\n",
        "prompt = \"tell me a funny joke\" #@param {type:\"string\"}\n",
        "#@markdown Checking this will result in a live response\n",
        "streaming_response = False #@param {type: \"boolean\"}\n",
        "#@markdown Render Markdown in normal response (will not work in streaming repsonse)\n",
        "render_markdown = False #@param {type: \"boolean\"}\n",
        "\n",
        "sleep(2)\n",
        "\n",
        "if streaming_response:\n",
        "  for response in quora.StreamingCompletion.create(model  = model,\n",
        "      prompt = prompt,\n",
        "      token  = token):\n",
        "      \n",
        "      print(response.completion.choices[0].text, end=\"\", flush=True)\n",
        "else:\n",
        "  md = MarkdownIt()\n",
        "  response = quora.Completion.create(model  = model,\n",
        "    prompt = prompt,\n",
        "    token  = token)\n",
        "\n",
        "  text = response.completion.choices[0].text\n",
        "  html = md.render(text)\n",
        "  display(HTML(html))"
      ],
      "metadata": {
        "colab": {
          "base_uri": "https://localhost:8080/",
          "height": 93
        },
        "cellView": "form",
        "id": "IqH8o-WRpAqY",
        "outputId": "41d5b84d-9810-4323-d17b-11cbca6bc0d1"
      },
      "execution_count": 7,
      "outputs": [
        {
          "output_type": "display_data",
          "data": {
            "text/plain": [
              "<IPython.core.display.HTML object>"
            ],
            "text/html": [
              "<p>Sure, here's a classic one:</p>\n",
              "<p>Why don't scientists trust atoms?</p>\n",
              "<p>Because they make up everything!</p>\n"
            ]
          },
          "metadata": {}
        }
      ]
    },
    {
      "cell_type": "code",
      "source": [],
      "metadata": {
        "id": "FjXxV2EkAIrC"
      },
      "execution_count": null,
      "outputs": []
    }
  ]
}