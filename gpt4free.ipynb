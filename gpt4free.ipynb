{
  "nbformat": 4,
  "nbformat_minor": 0,
  "metadata": {
    "colab": {
      "provenance": [],
      "include_colab_link": true
    },
    "kernelspec": {
      "name": "python3",
      "display_name": "Python 3"
    },
    "language_info": {
      "name": "python"
    },
    "widgets": {
      "application/vnd.jupyter.widget-state+json": {
        "6531ce92bfa4454a99b8fc5a2a5aba04": {
          "model_module": "@jupyter-widgets/controls",
          "model_name": "PasswordModel",
          "model_module_version": "1.5.0",
          "state": {
            "_dom_classes": [],
            "_model_module": "@jupyter-widgets/controls",
            "_model_module_version": "1.5.0",
            "_model_name": "PasswordModel",
            "_view_count": null,
            "_view_module": "@jupyter-widgets/controls",
            "_view_module_version": "1.5.0",
            "_view_name": "PasswordView",
            "continuous_update": true,
            "description": "Poe-token:",
            "description_tooltip": null,
            "disabled": false,
            "layout": "IPY_MODEL_04844207468047618a1482e1ca84c23c",
            "placeholder": "Enter your poe-token",
            "style": "IPY_MODEL_71556c7a13fc466f98c9f913b63e13fc",
            "value": ""
          }
        },
        "04844207468047618a1482e1ca84c23c": {
          "model_module": "@jupyter-widgets/base",
          "model_name": "LayoutModel",
          "model_module_version": "1.2.0",
          "state": {
            "_model_module": "@jupyter-widgets/base",
            "_model_module_version": "1.2.0",
            "_model_name": "LayoutModel",
            "_view_count": null,
            "_view_module": "@jupyter-widgets/base",
            "_view_module_version": "1.2.0",
            "_view_name": "LayoutView",
            "align_content": null,
            "align_items": null,
            "align_self": null,
            "border": null,
            "bottom": null,
            "display": null,
            "flex": null,
            "flex_flow": null,
            "grid_area": null,
            "grid_auto_columns": null,
            "grid_auto_flow": null,
            "grid_auto_rows": null,
            "grid_column": null,
            "grid_gap": null,
            "grid_row": null,
            "grid_template_areas": null,
            "grid_template_columns": null,
            "grid_template_rows": null,
            "height": null,
            "justify_content": null,
            "justify_items": null,
            "left": null,
            "margin": null,
            "max_height": null,
            "max_width": null,
            "min_height": null,
            "min_width": null,
            "object_fit": null,
            "object_position": null,
            "order": null,
            "overflow": null,
            "overflow_x": null,
            "overflow_y": null,
            "padding": null,
            "right": null,
            "top": null,
            "visibility": null,
            "width": null
          }
        },
        "71556c7a13fc466f98c9f913b63e13fc": {
          "model_module": "@jupyter-widgets/controls",
          "model_name": "DescriptionStyleModel",
          "model_module_version": "1.5.0",
          "state": {
            "_model_module": "@jupyter-widgets/controls",
            "_model_module_version": "1.5.0",
            "_model_name": "DescriptionStyleModel",
            "_view_count": null,
            "_view_module": "@jupyter-widgets/base",
            "_view_module_version": "1.2.0",
            "_view_name": "StyleView",
            "description_width": "initial"
          }
        },
        "dd65850ff69b4caab5e8eaebb58ed145": {
          "model_module": "@jupyter-widgets/controls",
          "model_name": "ButtonModel",
          "model_module_version": "1.5.0",
          "state": {
            "_dom_classes": [],
            "_model_module": "@jupyter-widgets/controls",
            "_model_module_version": "1.5.0",
            "_model_name": "ButtonModel",
            "_view_count": null,
            "_view_module": "@jupyter-widgets/controls",
            "_view_module_version": "1.5.0",
            "_view_name": "ButtonView",
            "button_style": "success",
            "description": "Save Poe-token",
            "disabled": false,
            "icon": "check",
            "layout": "IPY_MODEL_4dd60e516d5b4182ab693bf838c4fbfe",
            "style": "IPY_MODEL_50334e937bb143bd929d79656b535757",
            "tooltip": "Click to save the entered poe-token to an environment variable"
          }
        },
        "4dd60e516d5b4182ab693bf838c4fbfe": {
          "model_module": "@jupyter-widgets/base",
          "model_name": "LayoutModel",
          "model_module_version": "1.2.0",
          "state": {
            "_model_module": "@jupyter-widgets/base",
            "_model_module_version": "1.2.0",
            "_model_name": "LayoutModel",
            "_view_count": null,
            "_view_module": "@jupyter-widgets/base",
            "_view_module_version": "1.2.0",
            "_view_name": "LayoutView",
            "align_content": null,
            "align_items": null,
            "align_self": null,
            "border": null,
            "bottom": null,
            "display": null,
            "flex": null,
            "flex_flow": null,
            "grid_area": null,
            "grid_auto_columns": null,
            "grid_auto_flow": null,
            "grid_auto_rows": null,
            "grid_column": null,
            "grid_gap": null,
            "grid_row": null,
            "grid_template_areas": null,
            "grid_template_columns": null,
            "grid_template_rows": null,
            "height": null,
            "justify_content": null,
            "justify_items": null,
            "left": null,
            "margin": null,
            "max_height": null,
            "max_width": null,
            "min_height": null,
            "min_width": null,
            "object_fit": null,
            "object_position": null,
            "order": null,
            "overflow": null,
            "overflow_x": null,
            "overflow_y": null,
            "padding": null,
            "right": null,
            "top": null,
            "visibility": null,
            "width": null
          }
        },
        "50334e937bb143bd929d79656b535757": {
          "model_module": "@jupyter-widgets/controls",
          "model_name": "ButtonStyleModel",
          "model_module_version": "1.5.0",
          "state": {
            "_model_module": "@jupyter-widgets/controls",
            "_model_module_version": "1.5.0",
            "_model_name": "ButtonStyleModel",
            "_view_count": null,
            "_view_module": "@jupyter-widgets/base",
            "_view_module_version": "1.2.0",
            "_view_name": "StyleView",
            "button_color": null,
            "font_weight": ""
          }
        }
      }
    }
  },
  "cells": [
    {
      "cell_type": "markdown",
      "metadata": {
        "id": "view-in-github",
        "colab_type": "text"
      },
      "source": [
        "<a href=\"https://colab.research.google.com/github/DanielShemesh/gpt4free-colab/blob/main/gpt4free.ipynb\" target=\"_parent\"><img src=\"https://colab.research.google.com/assets/colab-badge.svg\" alt=\"Open In Colab\"/></a>"
      ]
    },
    {
      "cell_type": "markdown",
      "source": [
        "# **[GPT4free](https://github.com/DanielShemesh/gpt4free-colab/)**\n",
        "\n",
        "This program is licensed under the GNU GPL v3.\n",
        "\n",
        "&copy; 2023 Made by [Daniel Shemesh](https://github.com/DanielShemesh).\n",
        "  \n",
        "This Jupyter Notebook contains code written by [Daniel Shemesh](https://github.com/DanielShemesh). It is based on work from the GitHub repository by xtekky ([GPT4free](https://github.com/xtekky/gpt4free/)). The code in this notebook is released under the terms of the GNU General Public License v3, which allows for free redistribution and modification of the code in accordance with the terms of the license.\n",
        "\n",
        "## Disclaimer\n",
        "\n",
        "This repository uses third-party APIs and AI models and is not associated with or endorsed by the API providers or the original developers of the models. This project is intended for educational purposes only.\n",
        "\n",
        "Please note the following:\n",
        "\n",
        "**Disclaimer**: The APIs, services, and trademarks mentioned in this repository belong to their respective owners. This project is not claiming any right over them.\n",
        "\n",
        "**Responsibility**: The author of this repository is not responsible for any consequences arising from the use or misuse of this repository or the content provided by the third-party APIs and any damage or losses caused by users' actions.\n",
        "\n",
        "**Educational Purposes Only**: This repository and its content are provided strictly for educational purposes. By using the information and code provided, users acknowledge that they are using the APIs and models at their own risk and agree to comply with any applicable laws and regulations.\n"
      ],
      "metadata": {
        "id": "-dgsCWj894Jf"
      }
    },
    {
      "cell_type": "code",
      "execution_count": null,
      "metadata": {
        "id": "wbnrfNtOMW78",
        "collapsed": true,
        "cellView": "form"
      },
      "outputs": [],
      "source": [
        "#@markdown #Install requirements\n",
        "\n",
        "%%capture captured_output\n",
        "\n",
        "!git clone https://github.com/xtekky/gpt4free\n",
        "%cd gpt4free\n",
        "!mv testing/* ./\n",
        "!pip install -r requirements.txt\n",
        "!pip install ipywidgets"
      ]
    },
    {
      "cell_type": "markdown",
      "source": [
        "#Instructions\n",
        "##Poe/Quora\n",
        "* Sign up to [Poe](https://www.poe.com) and head over to the site\n",
        "* ctrl+shift+i to open developer console\n",
        "* Go to Application -> Cookies -> https://poe.com\n",
        "* Find the **p-b** cookie and copy its value, this will be your **Poe-token**"
      ],
      "metadata": {
        "id": "gITVWcGo2coc"
      }
    },
    {
      "cell_type": "code",
      "source": [
        "#@markdown #Define secrets\n",
        "\n",
        "import os\n",
        "import ipywidgets as widgets\n",
        "from IPython.display import display\n",
        "\n",
        "def create_input_widget(word):\n",
        "    widget = widgets.Password(\n",
        "        value='',\n",
        "        placeholder=f'Enter your {word}',\n",
        "        description=f'{word.capitalize()}:',\n",
        "        disabled=False,\n",
        "        style={'description_width': 'initial'}\n",
        "    )\n",
        "    return widget\n",
        "\n",
        "def create_save_button(word, widget):\n",
        "    button = widgets.Button(\n",
        "        description=f'Save {word.capitalize()}',\n",
        "        disabled=False,\n",
        "        button_style='success',\n",
        "        tooltip=f'Click to save the entered {word} to an environment variable',\n",
        "        icon='check'\n",
        "    )\n",
        "    button.on_click(lambda b: save_word(word, widget))\n",
        "    return button\n",
        "\n",
        "def save_word(word, widget):\n",
        "    os.environ[f'SECRET_{word.upper()}'] = widget.value\n",
        "    print(f\"{word.capitalize()} saved successfully!\")\n",
        "\n",
        "def create_input_and_save_button(word):\n",
        "    widget = create_input_widget(word)\n",
        "    button = create_save_button(word, widget)\n",
        "    display(widget)\n",
        "    display(button)\n",
        "\n",
        "create_input_and_save_button('poe-token')"
      ],
      "metadata": {
        "id": "olblQNP9VhZf",
        "colab": {
          "base_uri": "https://localhost:8080/",
          "height": 100,
          "referenced_widgets": [
            "6531ce92bfa4454a99b8fc5a2a5aba04",
            "04844207468047618a1482e1ca84c23c",
            "71556c7a13fc466f98c9f913b63e13fc",
            "dd65850ff69b4caab5e8eaebb58ed145",
            "4dd60e516d5b4182ab693bf838c4fbfe",
            "50334e937bb143bd929d79656b535757"
          ]
        },
        "cellView": "form",
        "outputId": "2e656203-4bba-4055-be61-3222e2c58823"
      },
      "execution_count": null,
      "outputs": [
        {
          "output_type": "display_data",
          "data": {
            "text/plain": [
              "Password(description='Poe-token:', placeholder='Enter your poe-token', style=DescriptionStyle(description_widt…"
            ],
            "application/vnd.jupyter.widget-view+json": {
              "version_major": 2,
              "version_minor": 0,
              "model_id": "6531ce92bfa4454a99b8fc5a2a5aba04"
            }
          },
          "metadata": {}
        },
        {
          "output_type": "display_data",
          "data": {
            "text/plain": [
              "Button(button_style='success', description='Save Poe-token', icon='check', style=ButtonStyle(), tooltip='Click…"
            ],
            "application/vnd.jupyter.widget-view+json": {
              "version_major": 2,
              "version_minor": 0,
              "model_id": "dd65850ff69b4caab5e8eaebb58ed145"
            }
          },
          "metadata": {}
        },
        {
          "output_type": "stream",
          "name": "stdout",
          "text": [
            "Poe-token saved successfully!\n"
          ]
        }
      ]
    },
    {
      "cell_type": "code",
      "source": [
        "#@markdown #Poe/Quora\n",
        "\n",
        "from markdown_it import MarkdownIt\n",
        "from IPython.core.display import HTML\n",
        "\n",
        "import quora\n",
        "import os\n",
        "from time import sleep\n",
        "\n",
        "token = os.environ['SECRET_POE-TOKEN']\n",
        "\n",
        "#@markdown Choose a model and type your prompt\n",
        "model = \"gpt-3.5-turbo\"  # @param ['gpt-3.5-turbo', 'gpt-4', 'sage', 'claude-v1.2', 'claude-instant-v1.0']\n",
        "prompt = \"write a java function that checks if a number is prime\" #@param {type:\"string\"}\n",
        "#@markdown Checking this will result in a live response\n",
        "streaming_response = False #@param {type: \"boolean\"}\n",
        "#@markdown Render Markdown in normal response (will not work in streaming repsonse)\n",
        "render_markdown = True #@param {type: \"boolean\"}\n",
        "\n",
        "sleep(2)\n",
        "\n",
        "if streaming_response:\n",
        "  for response in quora.StreamingCompletion.create(model  = model,\n",
        "      prompt = prompt,\n",
        "      token  = token):\n",
        "      \n",
        "      print(response.completion.choices[0].text, end=\"\", flush=True)\n",
        "else:\n",
        "  response = quora.Completion.create(model  = model,\n",
        "      prompt = prompt,\n",
        "      token  = token)\n",
        "  \n",
        "  if render_markdown:      \n",
        "    md = MarkdownIt()\n",
        "    text = response.completion.choices[0].text\n",
        "    html = md.render(text)\n",
        "    display(HTML(html))\n",
        "  else:\n",
        "    print(text)"
      ],
      "metadata": {
        "colab": {
          "base_uri": "https://localhost:8080/",
          "height": 304
        },
        "cellView": "form",
        "id": "IqH8o-WRpAqY",
        "outputId": "822eed61-aa57-42a4-859d-855b83e84829"
      },
      "execution_count": null,
      "outputs": [
        {
          "output_type": "display_data",
          "data": {
            "text/plain": [
              "<IPython.core.display.HTML object>"
            ],
            "text/html": [
              "<p>Certainly! Here's an example Java function that checks if a given number is prime:</p>\n",
              "<pre><code class=\"language-java\">public static boolean isPrime(int num) {\n",
              "    if (num &lt;= 1) {\n",
              "        return false;\n",
              "    }\n",
              "    for (int i = 2; i &lt;= Math.sqrt(num); i++) {\n",
              "        if (num % i == 0) {\n",
              "            return false;\n",
              "        }\n",
              "    }\n",
              "    return true;\n",
              "}\n",
              "</code></pre>\n",
              "<p>This function takes an integer <code>num</code> as input and returns a boolean value indicating whether <code>num</code> is prime or not. The function first checks if the number is less than or equal to 1, which is not a prime number. If <code>num</code> is greater than 1, the function checks if <code>num</code> is divisible by any number from 2 to the square root of <code>num</code>. If <code>num</code> is divisible by any of these numbers, then it is not a prime number and the function returns false. Otherwise, the function returns true, indicating that <code>num</code> is a prime number.</p>\n"
            ]
          },
          "metadata": {}
        }
      ]
    },
    {
      "cell_type": "code",
      "source": [],
      "metadata": {
        "id": "FjXxV2EkAIrC"
      },
      "execution_count": null,
      "outputs": []
    }
  ]
}